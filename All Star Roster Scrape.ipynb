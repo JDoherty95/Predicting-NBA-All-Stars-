{
 "cells": [
  {
   "cell_type": "code",
   "execution_count": 2,
   "id": "d469d936-c687-459f-9ce8-081f10a9bdc6",
   "metadata": {},
   "outputs": [],
   "source": [
    "# Import libraries\n",
    "import pandas as pd\n",
    "import requests\n",
    "from bs4 import BeautifulSoup\n",
    "import time"
   ]
  },
  {
   "cell_type": "code",
   "execution_count": 10,
   "id": "b660d150-8a4d-4efd-9cfa-e3c35b5c9c40",
   "metadata": {},
   "outputs": [],
   "source": [
    "#Testing scrape on the 2018 NBA All-Star game\n",
    "url = 'https://www.basketball-reference.com/allstar/NBA_2018.html'\n",
    "rec = requests.get(url)"
   ]
  },
  {
   "cell_type": "code",
   "execution_count": 11,
   "id": "0cac809e-7aac-42b0-8697-07f9c32e9efb",
   "metadata": {},
   "outputs": [
    {
     "data": {
      "text/plain": [
       "200"
      ]
     },
     "execution_count": 11,
     "metadata": {},
     "output_type": "execute_result"
    }
   ],
   "source": [
    "rec.status_code"
   ]
  },
  {
   "cell_type": "code",
   "execution_count": 12,
   "id": "4d55efce-bd59-4f57-918a-ba5565bf65d0",
   "metadata": {},
   "outputs": [],
   "source": [
    "soup = BeautifulSoup(rec.content, 'lxml')"
   ]
  },
  {
   "cell_type": "code",
   "execution_count": 13,
   "id": "cc048550-a5be-4ea7-9b78-c6d1c481f02f",
   "metadata": {},
   "outputs": [],
   "source": [
    "#table for first team\n",
    "table = soup.find_all('table')[1]"
   ]
  },
  {
   "cell_type": "code",
   "execution_count": 14,
   "id": "b52ad6f3-1625-4b76-a70b-d791ad188d23",
   "metadata": {},
   "outputs": [
    {
     "data": {
      "text/plain": [
       "'LeBron James'"
      ]
     },
     "execution_count": 14,
     "metadata": {},
     "output_type": "execute_result"
    }
   ],
   "source": [
    "table.find('tbody').find_all('tr')[0].find('th').text"
   ]
  },
  {
   "cell_type": "code",
   "execution_count": 15,
   "id": "fee351b4-c0be-4d8f-902f-508ef48423c8",
   "metadata": {},
   "outputs": [
    {
     "data": {
      "text/plain": [
       "['LeBron James',\n",
       " 'Kevin Durant',\n",
       " 'Russell Westbrook',\n",
       " 'Kyrie Irving',\n",
       " 'Anthony Davis',\n",
       " '',\n",
       " 'Paul George',\n",
       " 'Andre Drummond',\n",
       " 'Bradley Beal',\n",
       " 'Victor Oladipo',\n",
       " 'Kemba Walker',\n",
       " 'Goran Dragić',\n",
       " 'LaMarcus Aldridge']"
      ]
     },
     "execution_count": 15,
     "metadata": {},
     "output_type": "execute_result"
    }
   ],
   "source": [
    "#looping through first table on site to get players from the first team\n",
    "[tr.find('th').text for tr in table.find('tbody').find_all('tr') if tr.find('th').text != ('Reserves')]"
   ]
  },
  {
   "cell_type": "code",
   "execution_count": 16,
   "id": "5def7e00-3175-4b72-b889-da90a09a3ec8",
   "metadata": {},
   "outputs": [],
   "source": [
    "#table for second team\n",
    "table_2 = soup.find_all('table')[2]"
   ]
  },
  {
   "cell_type": "code",
   "execution_count": 17,
   "id": "1461dfbf-f85c-4c83-8ae4-f304e82ccbac",
   "metadata": {},
   "outputs": [
    {
     "data": {
      "text/plain": [
       "'James Harden'"
      ]
     },
     "execution_count": 17,
     "metadata": {},
     "output_type": "execute_result"
    }
   ],
   "source": [
    "table_2.find('tbody').find_all('tr')[0].find('th').text"
   ]
  },
  {
   "cell_type": "code",
   "execution_count": 18,
   "id": "ba59f3d9-202c-4484-8eb5-fd1cd88e34b5",
   "metadata": {},
   "outputs": [
    {
     "data": {
      "text/plain": [
       "['James Harden',\n",
       " 'DeMar DeRozan',\n",
       " 'Stephen Curry',\n",
       " 'Giannis Antetokounmpo',\n",
       " 'Joel Embiid',\n",
       " '',\n",
       " 'Kyle Lowry',\n",
       " 'Klay Thompson',\n",
       " 'Damian Lillard',\n",
       " 'Draymond Green',\n",
       " 'Karl-Anthony Towns',\n",
       " 'Al Horford']"
      ]
     },
     "execution_count": 18,
     "metadata": {},
     "output_type": "execute_result"
    }
   ],
   "source": [
    "#looping through to get players from the second team\n",
    "[tr.find('th').text for tr in table_2.find('tbody').find_all('tr') if tr.find('th').text != 'Reserves']"
   ]
  },
  {
   "cell_type": "code",
   "execution_count": 21,
   "id": "6c261797-2646-43f3-919a-d2b5730c6acb",
   "metadata": {},
   "outputs": [
    {
     "name": "stdout",
     "output_type": "stream",
     "text": [
      "Scraping the 2006 All-Star game\n",
      "Scraping the 2007 All-Star game\n",
      "Scraping the 2008 All-Star game\n",
      "Scraping the 2009 All-Star game\n",
      "Scraping the 2010 All-Star game\n",
      "Scraping the 2011 All-Star game\n",
      "Scraping the 2012 All-Star game\n",
      "Scraping the 2013 All-Star game\n",
      "Scraping the 2014 All-Star game\n",
      "Scraping the 2015 All-Star game\n",
      "Scraping the 2016 All-Star game\n",
      "Scraping the 2017 All-Star game\n",
      "Scraping the 2018 All-Star game\n",
      "Scraping the 2019 All-Star game\n"
     ]
    }
   ],
   "source": [
    "#getting All-Star rosters from 2006-2018\n",
    "player_list = []\n",
    "\n",
    "for i in range(2006, 2020):\n",
    "    print(f'Scraping the {i} All-Star game')\n",
    "    url = f'https://www.basketball-reference.com/allstar/NBA_{i}.html'\n",
    "    rec = requests.get(url)\n",
    "    if rec.status_code == 200:\n",
    "        soup = BeautifulSoup(rec.content, 'lxml')\n",
    "        \n",
    "        #getting players for team 1\n",
    "        table_1 = soup.find_all('table')[1]\n",
    "        team_1 = [tr.find('th').text for tr in table_1.find('tbody').find_all('tr') if tr.find('th').text != ('Reserves')]\n",
    "        player_list.extend(team_1)\n",
    "        \n",
    "        #getting players for team 2\n",
    "        table_2 = soup.find_all('table')[2]\n",
    "        team_2 = [tr.find('th').text for tr in table_2.find('tbody').find_all('tr') if tr.find('th').text != ('Reserves')]\n",
    "        player_list.extend(team_2)\n",
    "        \n",
    "    else: \n",
    "        print('website error')\n",
    "    \n",
    "    time.sleep(1)\n",
    "        "
   ]
  },
  {
   "cell_type": "code",
   "execution_count": 22,
   "id": "263abe46-ee1e-41a4-a6a4-259b1fb7ae9e",
   "metadata": {},
   "outputs": [],
   "source": [
    "#creating dataframe\n",
    "all_star_df = pd.DataFrame(player_list, columns = ['Name'])"
   ]
  },
  {
   "cell_type": "code",
   "execution_count": 23,
   "id": "6d70f4c2-1c07-4dcd-b673-9df392af49f8",
   "metadata": {},
   "outputs": [
    {
     "data": {
      "text/html": [
       "<div>\n",
       "<style scoped>\n",
       "    .dataframe tbody tr th:only-of-type {\n",
       "        vertical-align: middle;\n",
       "    }\n",
       "\n",
       "    .dataframe tbody tr th {\n",
       "        vertical-align: top;\n",
       "    }\n",
       "\n",
       "    .dataframe thead th {\n",
       "        text-align: right;\n",
       "    }\n",
       "</style>\n",
       "<table border=\"1\" class=\"dataframe\">\n",
       "  <thead>\n",
       "    <tr style=\"text-align: right;\">\n",
       "      <th></th>\n",
       "      <th>Name</th>\n",
       "    </tr>\n",
       "  </thead>\n",
       "  <tbody>\n",
       "    <tr>\n",
       "      <th>0</th>\n",
       "      <td>Dwyane Wade</td>\n",
       "    </tr>\n",
       "    <tr>\n",
       "      <th>1</th>\n",
       "      <td>LeBron James</td>\n",
       "    </tr>\n",
       "    <tr>\n",
       "      <th>2</th>\n",
       "      <td>Allen Iverson</td>\n",
       "    </tr>\n",
       "    <tr>\n",
       "      <th>3</th>\n",
       "      <td>Shaquille O'Neal</td>\n",
       "    </tr>\n",
       "    <tr>\n",
       "      <th>4</th>\n",
       "      <td>Vince Carter</td>\n",
       "    </tr>\n",
       "  </tbody>\n",
       "</table>\n",
       "</div>"
      ],
      "text/plain": [
       "               Name\n",
       "0       Dwyane Wade\n",
       "1      LeBron James\n",
       "2     Allen Iverson\n",
       "3  Shaquille O'Neal\n",
       "4      Vince Carter"
      ]
     },
     "execution_count": 23,
     "metadata": {},
     "output_type": "execute_result"
    }
   ],
   "source": [
    "all_star_df.head()"
   ]
  },
  {
   "cell_type": "code",
   "execution_count": 24,
   "id": "6e7e286b-c0b0-48ed-afca-5de50b69fc3c",
   "metadata": {},
   "outputs": [
    {
     "data": {
      "text/plain": [
       "(365, 1)"
      ]
     },
     "execution_count": 24,
     "metadata": {},
     "output_type": "execute_result"
    }
   ],
   "source": [
    "all_star_df.shape"
   ]
  },
  {
   "cell_type": "code",
   "execution_count": 25,
   "id": "9c143bb5-ba1e-48f8-b92e-89d33dfa4dee",
   "metadata": {},
   "outputs": [],
   "source": [
    "#Dropping duplicates\n",
    "#Many players have made multiple games\n",
    "all_star_df.drop_duplicates(inplace = True)"
   ]
  },
  {
   "cell_type": "code",
   "execution_count": 26,
   "id": "f15be795-6b72-4d0f-a5ca-0ca4ffa165e8",
   "metadata": {},
   "outputs": [
    {
     "data": {
      "text/html": [
       "<div>\n",
       "<style scoped>\n",
       "    .dataframe tbody tr th:only-of-type {\n",
       "        vertical-align: middle;\n",
       "    }\n",
       "\n",
       "    .dataframe tbody tr th {\n",
       "        vertical-align: top;\n",
       "    }\n",
       "\n",
       "    .dataframe thead th {\n",
       "        text-align: right;\n",
       "    }\n",
       "</style>\n",
       "<table border=\"1\" class=\"dataframe\">\n",
       "  <thead>\n",
       "    <tr style=\"text-align: right;\">\n",
       "      <th></th>\n",
       "      <th>Name</th>\n",
       "    </tr>\n",
       "  </thead>\n",
       "  <tbody>\n",
       "    <tr>\n",
       "      <th>5</th>\n",
       "      <td></td>\n",
       "    </tr>\n",
       "    <tr>\n",
       "      <th>114</th>\n",
       "      <td>Al Horford</td>\n",
       "    </tr>\n",
       "    <tr>\n",
       "      <th>2</th>\n",
       "      <td>Allen Iverson</td>\n",
       "    </tr>\n",
       "    <tr>\n",
       "      <th>36</th>\n",
       "      <td>Amar'e Stoudemire</td>\n",
       "    </tr>\n",
       "    <tr>\n",
       "      <th>283</th>\n",
       "      <td>Andre Drummond</td>\n",
       "    </tr>\n",
       "  </tbody>\n",
       "</table>\n",
       "</div>"
      ],
      "text/plain": [
       "                  Name\n",
       "5                     \n",
       "114         Al Horford\n",
       "2        Allen Iverson\n",
       "36   Amar'e Stoudemire\n",
       "283     Andre Drummond"
      ]
     },
     "execution_count": 26,
     "metadata": {},
     "output_type": "execute_result"
    }
   ],
   "source": [
    "#need to remove empty name\n",
    "all_star_df.sort_values(by = 'Name').head()"
   ]
  },
  {
   "cell_type": "code",
   "execution_count": 27,
   "id": "32aa3b05-34fb-48e9-91c1-33de0bdfa9bf",
   "metadata": {},
   "outputs": [],
   "source": [
    "#dropping missing value\n",
    "all_star_df.drop(5, inplace = True)"
   ]
  },
  {
   "cell_type": "code",
   "execution_count": 28,
   "id": "44942d56-47c3-4858-83ce-c78f114c6fe7",
   "metadata": {},
   "outputs": [],
   "source": [
    "#resetting index\n",
    "all_star_df.reset_index(drop = True, inplace = True)\n"
   ]
  },
  {
   "cell_type": "code",
   "execution_count": 29,
   "id": "815cafa6-eed3-4901-92bd-b3b54d124f09",
   "metadata": {},
   "outputs": [],
   "source": [
    "#Removing special characters from name\n",
    "all_star_df.loc[all_star_df['Name'] == 'Nikola Vučević' , 'Name'] = 'Nikola Vucevic'"
   ]
  },
  {
   "cell_type": "code",
   "execution_count": 30,
   "id": "094af545-81ae-4f97-8fe9-d2bd259342de",
   "metadata": {},
   "outputs": [],
   "source": [
    "#saving to csv file\n",
    "all_star_df.to_csv('all_star_rosters.csv')"
   ]
  },
  {
   "cell_type": "code",
   "execution_count": null,
   "id": "204bb63d-e9e9-45f4-94e9-256c105ac92d",
   "metadata": {},
   "outputs": [],
   "source": []
  }
 ],
 "metadata": {
  "kernelspec": {
   "display_name": "Python 3 (ipykernel)",
   "language": "python",
   "name": "python3"
  },
  "language_info": {
   "codemirror_mode": {
    "name": "ipython",
    "version": 3
   },
   "file_extension": ".py",
   "mimetype": "text/x-python",
   "name": "python",
   "nbconvert_exporter": "python",
   "pygments_lexer": "ipython3",
   "version": "3.8.2"
  }
 },
 "nbformat": 4,
 "nbformat_minor": 5
}
