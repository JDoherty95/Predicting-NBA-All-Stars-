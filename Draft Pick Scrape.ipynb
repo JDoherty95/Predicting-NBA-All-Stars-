{
 "cells": [
  {
   "cell_type": "code",
   "execution_count": 1,
   "id": "7e126814-f9db-4ecd-b153-af81218b67a1",
   "metadata": {},
   "outputs": [],
   "source": [
    "# Import libraries\n",
    "import pandas as pd\n",
    "import requests\n",
    "from bs4 import BeautifulSoup\n",
    "import time"
   ]
  },
  {
   "cell_type": "code",
   "execution_count": 2,
   "id": "14553a62-ee5b-4a63-8f08-07d4f8832059",
   "metadata": {},
   "outputs": [],
   "source": [
    "#2018 NBA Draft URL\n",
    "url = 'https://www.basketball-reference.com/draft/NBA_2018.html'\n",
    "rec = requests.get(url)"
   ]
  },
  {
   "cell_type": "code",
   "execution_count": 3,
   "id": "798bbbf3-0a01-4518-80cf-9a71a70c9db0",
   "metadata": {},
   "outputs": [
    {
     "data": {
      "text/plain": [
       "200"
      ]
     },
     "execution_count": 3,
     "metadata": {},
     "output_type": "execute_result"
    }
   ],
   "source": [
    "rec.status_code\n"
   ]
  },
  {
   "cell_type": "code",
   "execution_count": 4,
   "id": "6be45880-ba73-49e1-b220-9e330150ecfb",
   "metadata": {},
   "outputs": [],
   "source": [
    "soup = BeautifulSoup(rec.content, 'lxml')"
   ]
  },
  {
   "cell_type": "code",
   "execution_count": 15,
   "id": "1e30d403-2416-4550-abbe-7106ca120c9d",
   "metadata": {},
   "outputs": [],
   "source": [
    "#setting variable equal to table with all the data\n",
    "table = soup.find('table', {'class': 'sortable stats_table'})"
   ]
  },
  {
   "cell_type": "code",
   "execution_count": 16,
   "id": "2b09e517-6fbe-47f2-9379-f68a7ddde673",
   "metadata": {},
   "outputs": [],
   "source": [
    "#creating list of columns for dataframe\n",
    "#taken from table\n",
    "columns = [th.text for th in table.find_all('tr')[1].find_all('th')]"
   ]
  },
  {
   "cell_type": "code",
   "execution_count": 7,
   "id": "3c8f38fc-d08a-4c8c-9fe8-438c8125fa98",
   "metadata": {},
   "outputs": [
    {
     "data": {
      "text/plain": [
       "['1',\n",
       " 'PHO',\n",
       " 'Deandre Ayton',\n",
       " 'Arizona',\n",
       " '4',\n",
       " '203',\n",
       " '6303',\n",
       " '3266',\n",
       " '2167',\n",
       " '336',\n",
       " '.593',\n",
       " '.182',\n",
       " '.746',\n",
       " '31.0',\n",
       " '16.1',\n",
       " '10.7',\n",
       " '1.7',\n",
       " '20.7',\n",
       " '.158',\n",
       " '1.0',\n",
       " '4.7']"
      ]
     },
     "execution_count": 7,
     "metadata": {},
     "output_type": "execute_result"
    }
   ],
   "source": [
    "#example scrape for one player\n",
    "[td.text for td in table.find('tbody').find_all('tr')[0].find_all('td')]"
   ]
  },
  {
   "cell_type": "code",
   "execution_count": 8,
   "id": "0bbf8e0a-b0d9-42b8-8c3d-43a19ac1cf38",
   "metadata": {},
   "outputs": [
    {
     "name": "stdout",
     "output_type": "stream",
     "text": [
      "Scraping 2008 draft\n",
      "Scraping 2009 draft\n",
      "Scraping 2010 draft\n",
      "Scraping 2011 draft\n",
      "Scraping 2012 draft\n",
      "Scraping 2013 draft\n",
      "Scraping 2014 draft\n",
      "Scraping 2015 draft\n",
      "Scraping 2016 draft\n",
      "Scraping 2017 draft\n",
      "Scraping 2018 draft\n",
      "Scraping 2019 draft\n"
     ]
    }
   ],
   "source": [
    "# list to hold each player and their stats\n",
    "draft_list = []\n",
    "\n",
    "# loop through draft by year\n",
    "for i in range(2008,2020):\n",
    "    print(f'Scraping {i} draft')\n",
    "    #url for the draft includes the specific year\n",
    "    url = f'https://www.basketball-reference.com/draft/NBA_{i}.html'\n",
    "    rec = requests.get(url)\n",
    "    \n",
    "    #running loop is status code is 200\n",
    "    if rec.status_code == 200:\n",
    "        soup = BeautifulSoup(rec.content, 'lxml')\n",
    "        table = soup.find('table', {'class': 'sortable stats_table'})\n",
    "        \n",
    "        for player in table.find('tbody').find_all('tr'):\n",
    "            player_info = [td.text for td in player.find_all('td')]\n",
    "            draft_list.append(player_info)\n",
    "        time.sleep(1)\n",
    "    else:\n",
    "        print('website error')"
   ]
  },
  {
   "cell_type": "code",
   "execution_count": 17,
   "id": "323cc6f7-a33a-4402-824a-7b1328b15005",
   "metadata": {},
   "outputs": [],
   "source": [
    "#creating dataframe from the scraped data\n",
    "draft_df = pd.DataFrame(draft_list, columns = columns[1:])"
   ]
  },
  {
   "cell_type": "code",
   "execution_count": 18,
   "id": "16f20b04-dcb6-49ab-9d14-d25b0d4dc545",
   "metadata": {},
   "outputs": [
    {
     "data": {
      "text/html": [
       "<div>\n",
       "<style scoped>\n",
       "    .dataframe tbody tr th:only-of-type {\n",
       "        vertical-align: middle;\n",
       "    }\n",
       "\n",
       "    .dataframe tbody tr th {\n",
       "        vertical-align: top;\n",
       "    }\n",
       "\n",
       "    .dataframe thead th {\n",
       "        text-align: right;\n",
       "    }\n",
       "</style>\n",
       "<table border=\"1\" class=\"dataframe\">\n",
       "  <thead>\n",
       "    <tr style=\"text-align: right;\">\n",
       "      <th></th>\n",
       "      <th>Pk</th>\n",
       "      <th>Tm</th>\n",
       "      <th>Player</th>\n",
       "      <th>College</th>\n",
       "      <th>Yrs</th>\n",
       "      <th>G</th>\n",
       "      <th>MP</th>\n",
       "      <th>PTS</th>\n",
       "      <th>TRB</th>\n",
       "      <th>AST</th>\n",
       "      <th>...</th>\n",
       "      <th>3P%</th>\n",
       "      <th>FT%</th>\n",
       "      <th>MP</th>\n",
       "      <th>PTS</th>\n",
       "      <th>TRB</th>\n",
       "      <th>AST</th>\n",
       "      <th>WS</th>\n",
       "      <th>WS/48</th>\n",
       "      <th>BPM</th>\n",
       "      <th>VORP</th>\n",
       "    </tr>\n",
       "  </thead>\n",
       "  <tbody>\n",
       "    <tr>\n",
       "      <th>0</th>\n",
       "      <td>1</td>\n",
       "      <td>CHI</td>\n",
       "      <td>Derrick Rose</td>\n",
       "      <td>Memphis</td>\n",
       "      <td>13</td>\n",
       "      <td>672</td>\n",
       "      <td>21317</td>\n",
       "      <td>12230</td>\n",
       "      <td>2239</td>\n",
       "      <td>3646</td>\n",
       "      <td>...</td>\n",
       "      <td>.316</td>\n",
       "      <td>.830</td>\n",
       "      <td>31.7</td>\n",
       "      <td>18.2</td>\n",
       "      <td>3.3</td>\n",
       "      <td>5.4</td>\n",
       "      <td>44.3</td>\n",
       "      <td>.100</td>\n",
       "      <td>1.4</td>\n",
       "      <td>18.4</td>\n",
       "    </tr>\n",
       "    <tr>\n",
       "      <th>1</th>\n",
       "      <td>2</td>\n",
       "      <td>MIA</td>\n",
       "      <td>Michael Beasley</td>\n",
       "      <td>Kansas State</td>\n",
       "      <td>11</td>\n",
       "      <td>609</td>\n",
       "      <td>13903</td>\n",
       "      <td>7568</td>\n",
       "      <td>2861</td>\n",
       "      <td>788</td>\n",
       "      <td>...</td>\n",
       "      <td>.349</td>\n",
       "      <td>.759</td>\n",
       "      <td>22.8</td>\n",
       "      <td>12.4</td>\n",
       "      <td>4.7</td>\n",
       "      <td>1.3</td>\n",
       "      <td>15.6</td>\n",
       "      <td>.054</td>\n",
       "      <td>-1.7</td>\n",
       "      <td>0.9</td>\n",
       "    </tr>\n",
       "    <tr>\n",
       "      <th>2</th>\n",
       "      <td>3</td>\n",
       "      <td>MIN</td>\n",
       "      <td>O.J. Mayo</td>\n",
       "      <td>USC</td>\n",
       "      <td>8</td>\n",
       "      <td>547</td>\n",
       "      <td>16919</td>\n",
       "      <td>7574</td>\n",
       "      <td>1706</td>\n",
       "      <td>1607</td>\n",
       "      <td>...</td>\n",
       "      <td>.373</td>\n",
       "      <td>.820</td>\n",
       "      <td>30.9</td>\n",
       "      <td>13.8</td>\n",
       "      <td>3.1</td>\n",
       "      <td>2.9</td>\n",
       "      <td>21.8</td>\n",
       "      <td>.062</td>\n",
       "      <td>-0.9</td>\n",
       "      <td>4.7</td>\n",
       "    </tr>\n",
       "    <tr>\n",
       "      <th>3</th>\n",
       "      <td>4</td>\n",
       "      <td>SEA</td>\n",
       "      <td>Russell Westbrook</td>\n",
       "      <td>UCLA</td>\n",
       "      <td>14</td>\n",
       "      <td>984</td>\n",
       "      <td>34201</td>\n",
       "      <td>22634</td>\n",
       "      <td>7293</td>\n",
       "      <td>8397</td>\n",
       "      <td>...</td>\n",
       "      <td>.305</td>\n",
       "      <td>.786</td>\n",
       "      <td>34.8</td>\n",
       "      <td>23.0</td>\n",
       "      <td>7.4</td>\n",
       "      <td>8.5</td>\n",
       "      <td>106.2</td>\n",
       "      <td>.149</td>\n",
       "      <td>4.5</td>\n",
       "      <td>55.8</td>\n",
       "    </tr>\n",
       "    <tr>\n",
       "      <th>4</th>\n",
       "      <td>5</td>\n",
       "      <td>MEM</td>\n",
       "      <td>Kevin Love</td>\n",
       "      <td>UCLA</td>\n",
       "      <td>14</td>\n",
       "      <td>770</td>\n",
       "      <td>24115</td>\n",
       "      <td>13749</td>\n",
       "      <td>8372</td>\n",
       "      <td>1827</td>\n",
       "      <td>...</td>\n",
       "      <td>.373</td>\n",
       "      <td>.830</td>\n",
       "      <td>31.3</td>\n",
       "      <td>17.9</td>\n",
       "      <td>10.9</td>\n",
       "      <td>2.4</td>\n",
       "      <td>86.3</td>\n",
       "      <td>.172</td>\n",
       "      <td>3.4</td>\n",
       "      <td>32.9</td>\n",
       "    </tr>\n",
       "  </tbody>\n",
       "</table>\n",
       "<p>5 rows × 21 columns</p>\n",
       "</div>"
      ],
      "text/plain": [
       "  Pk   Tm             Player       College Yrs    G     MP    PTS   TRB   AST  \\\n",
       "0  1  CHI       Derrick Rose       Memphis  13  672  21317  12230  2239  3646   \n",
       "1  2  MIA    Michael Beasley  Kansas State  11  609  13903   7568  2861   788   \n",
       "2  3  MIN          O.J. Mayo           USC   8  547  16919   7574  1706  1607   \n",
       "3  4  SEA  Russell Westbrook          UCLA  14  984  34201  22634  7293  8397   \n",
       "4  5  MEM         Kevin Love          UCLA  14  770  24115  13749  8372  1827   \n",
       "\n",
       "   ...   3P%   FT%    MP   PTS   TRB  AST     WS WS/48   BPM  VORP  \n",
       "0  ...  .316  .830  31.7  18.2   3.3  5.4   44.3  .100   1.4  18.4  \n",
       "1  ...  .349  .759  22.8  12.4   4.7  1.3   15.6  .054  -1.7   0.9  \n",
       "2  ...  .373  .820  30.9  13.8   3.1  2.9   21.8  .062  -0.9   4.7  \n",
       "3  ...  .305  .786  34.8  23.0   7.4  8.5  106.2  .149   4.5  55.8  \n",
       "4  ...  .373  .830  31.3  17.9  10.9  2.4   86.3  .172   3.4  32.9  \n",
       "\n",
       "[5 rows x 21 columns]"
      ]
     },
     "execution_count": 18,
     "metadata": {},
     "output_type": "execute_result"
    }
   ],
   "source": [
    "draft_df.head()"
   ]
  },
  {
   "cell_type": "code",
   "execution_count": 19,
   "id": "54f41baf-2149-44cf-82da-0790f78171fe",
   "metadata": {},
   "outputs": [],
   "source": [
    "#dropping nulls\n",
    "draft_df.dropna(inplace = True)"
   ]
  },
  {
   "cell_type": "code",
   "execution_count": 20,
   "id": "fb4f1d21-96da-4dd7-b8bd-b777d5c3ad2b",
   "metadata": {},
   "outputs": [
    {
     "data": {
      "text/plain": [
       "0"
      ]
     },
     "execution_count": 20,
     "metadata": {},
     "output_type": "execute_result"
    }
   ],
   "source": [
    "#checking for null values\n",
    "draft_df.isnull().sum().sum()"
   ]
  },
  {
   "cell_type": "code",
   "execution_count": 21,
   "id": "b845176f-f47b-4858-9f31-1d59a534349f",
   "metadata": {},
   "outputs": [
    {
     "data": {
      "text/plain": [
       "(720, 21)"
      ]
     },
     "execution_count": 21,
     "metadata": {},
     "output_type": "execute_result"
    }
   ],
   "source": [
    "draft_df.shape"
   ]
  },
  {
   "cell_type": "code",
   "execution_count": 22,
   "id": "e7763477-d9db-43a8-b301-92a6293edde5",
   "metadata": {},
   "outputs": [],
   "source": [
    "#saving file as csv to access in other notebooks\n",
    "draft_df.to_csv('draftpicks.csv')"
   ]
  },
  {
   "cell_type": "code",
   "execution_count": null,
   "id": "fceba7ce-9c64-4e5f-99a4-15ee86234a51",
   "metadata": {},
   "outputs": [],
   "source": []
  }
 ],
 "metadata": {
  "kernelspec": {
   "display_name": "Python 3 (ipykernel)",
   "language": "python",
   "name": "python3"
  },
  "language_info": {
   "codemirror_mode": {
    "name": "ipython",
    "version": 3
   },
   "file_extension": ".py",
   "mimetype": "text/x-python",
   "name": "python",
   "nbconvert_exporter": "python",
   "pygments_lexer": "ipython3",
   "version": "3.8.8"
  }
 },
 "nbformat": 4,
 "nbformat_minor": 5
}
