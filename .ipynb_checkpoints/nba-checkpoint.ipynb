{
 "cells": [
  {
   "cell_type": "code",
   "execution_count": null,
   "id": "ad415a1c",
   "metadata": {},
   "outputs": [],
   "source": [
    "import requests\n",
    "import pandas as pd"
   ]
  },
  {
   "cell_type": "code",
   "execution_count": null,
   "id": "b0aa18ae",
   "metadata": {},
   "outputs": [],
   "source": [
    "season_id = '2021-21'\n",
    "per_mode = 'Totals'"
   ]
  },
  {
   "cell_type": "code",
   "execution_count": null,
   "id": "61df013b",
   "metadata": {},
   "outputs": [],
   "source": [
    "url = 'https://stats.nba.com/stats/leaguedashplayerstats?College=&Conference=&Country=&DateFrom=&DateTo=&Division=&DraftPick=&DraftYear=&GameScope=&GameSegment=&Height=&LastNGames=0&LeagueID=00&Location=&MeasureType=Base&Month=0&OpponentTeamID=0&Outcome=&PORound=0&PaceAdjust=N&PerMode=PerGame&Period=0&PlayerExperience=&PlayerPosition=&PlusMinus=N&Rank=N&Season=2021-22&SeasonSegment=&SeasonType=Regular+Season&ShotClockRange=&StarterBench=&TeamID=0&TwoWay=0&VsConference=&VsDivision=&Weight='"
   ]
  },
  {
   "cell_type": "code",
   "execution_count": null,
   "id": "fe6df799",
   "metadata": {},
   "outputs": [],
   "source": [
    "headers  = {\n",
    "    'Connection': 'keep-alive',\n",
    "    'Accept': 'application/json, text/plain, */*',\n",
    "    'x-nba-stats-token': 'true',\n",
    "    'User-Agent': 'Mozilla/5.0 (Macintosh; Intel Mac OS X 10_14_6) AppleWebKit/537.36 (KHTML, like Gecko) Chrome/79.0.3945.130 Safari/537.36',\n",
    "    'x-nba-stats-origin': 'stats',\n",
    "    'Sec-Fetch-Site': 'same-origin',\n",
    "    'Sec-Fetch-Mode': 'cors',\n",
    "    'Referer': 'https://stats.nba.com/',\n",
    "    'Accept-Encoding': 'gzip, deflate, br',\n",
    "    'Accept-Language': 'en-US,en;q=0.9',\n",
    "}"
   ]
  },
  {
   "cell_type": "code",
   "execution_count": null,
   "id": "34e01734",
   "metadata": {},
   "outputs": [],
   "source": [
    "# json response\n",
    "response = requests.get(url=url, headers=headers).json()\n",
    "response"
   ]
  },
  {
   "cell_type": "code",
   "execution_count": null,
   "id": "a4458e0c",
   "metadata": {},
   "outputs": [],
   "source": [
    "# pulling just the data we want\n",
    "player_info = response['resultSets'][0]['rowSet']\n",
    "player_info"
   ]
  },
  {
   "cell_type": "code",
   "execution_count": null,
   "id": "5553f8ef",
   "metadata": {},
   "outputs": [],
   "source": [
    " # looping over data to insert into table\n",
    "column_list = [\n",
    "    \"season_id\",\n",
    "    \"player_id\",\n",
    "    \"player_name\",\n",
    "    \"team_id\",\n",
    "    \"team_abbreviation\",\n",
    "    \"age\",\n",
    "    \"gp\",\n",
    "    \"w\",\n",
    "    'l',\n",
    "    \"w_pct\",\n",
    "    \"min\",\n",
    "    \"fgm\",\n",
    "    \"fga\",\n",
    "    \"fg_pct\",\n",
    "    \"fg3m\",\n",
    "    \"fg3a\",\n",
    "    \"fg3_pct\",\n",
    "    \"ftm\",\n",
    "    \"fta\",\n",
    "    \"ft_pct\",\n",
    "    \"oreb\",\n",
    "    \"dreb\",\n",
    "    \"reb\",\n",
    "    \"ast\",\n",
    "    \"tov\",\n",
    "    \"stl\",\n",
    "    \"blk\",\n",
    "    \"blka\",\n",
    "    \"pf\",\n",
    "    \"pfd\",\n",
    "    \"pts\",\n",
    "    \"plus_minus\",\n",
    "    \"nba_fantasy_pts\",\n",
    "    \"dd2\",\n",
    "    \"td3\",\n",
    "    \"gp_rank\",\n",
    "    \"w_rank\",\n",
    "    \"l_rank\",\n",
    "    \"w_pct_rank\",\n",
    "    \"min_rank\",\n",
    "    \"fgm_rank\",\n",
    "    \"fga_rank\",\n",
    "    \"fg_pct_rank\",\n",
    "    \"fg3m_rank\",\n",
    "    \"fg3a_rank\",\n",
    "    \"fg3_pct_rank\",\n",
    "    \"ftm_rank\",\n",
    "    \"fta_rank\",\n",
    "    \"ft_pct_rank\",\n",
    "    \"oreb_rank\",\n",
    "    \"dreb_rank\",\n",
    "    \"reb_rank\",\n",
    "    \"ast_rank\",\n",
    "    \"tov_rank\",\n",
    "    \"stl_rank\",\n",
    "    \"blk_rank\",\n",
    "    \"blka_rank\",\n",
    "    \"pf_rank\",\n",
    "    \"pfd_rank\",\n",
    "    \"pts_rank\",\n",
    "    \"plus_minus_rank\",\n",
    "    \"nba_fantasy_pts_rank\",\n",
    "    \"dd2_rank\",\n",
    "    \"td3_rank\",\n",
    "    \"cfid\",\n",
    "    \"cfparams\"\n",
    "]"
   ]
  },
  {
   "cell_type": "code",
   "execution_count": null,
   "id": "efa90847",
   "metadata": {},
   "outputs": [],
   "source": [
    "nba_df = pd.DataFrame(player_info, columns = column_list)\n",
    "nba_df.sample(10)"
   ]
  },
  {
   "cell_type": "code",
   "execution_count": null,
   "id": "57efafc6",
   "metadata": {},
   "outputs": [],
   "source": [
    "nba_df.to_csv('player_traditional_stats_20-21.csv', index=False)"
   ]
  },
  {
   "cell_type": "code",
   "execution_count": null,
   "id": "cffd5d72",
   "metadata": {},
   "outputs": [],
   "source": [
    "# list of season_ids\n",
    "season_list = [\n",
    "    '1996-97',\n",
    "    '1997-98',\n",
    "    '1998-99',\n",
    "    '1999-00',\n",
    "    '2000-01',\n",
    "    '2001-02',\n",
    "    '2002-03',\n",
    "    '2003-04',\n",
    "    '2004-05',\n",
    "    '2005-06',\n",
    "    '2006-07',\n",
    "    '2007-08',\n",
    "    '2008-09',\n",
    "    '2009-10',\n",
    "    '2010-11',\n",
    "    '2011-12',\n",
    "    '2012-13',\n",
    "    '2013-14',\n",
    "    '2014-15',\n",
    "    '2015-16',\n",
    "    '2016-17',\n",
    "    '2017-18',\n",
    "    '2018-19',\n",
    "    '2019-20'\n",
    "]"
   ]
  },
  {
   "cell_type": "code",
   "execution_count": null,
   "id": "27e40976",
   "metadata": {},
   "outputs": [],
   "source": [
    "dfs = []"
   ]
  },
  {
   "cell_type": "code",
   "execution_count": null,
   "id": "b16d9a81",
   "metadata": {},
   "outputs": [],
   "source": [
    "# for loop to loop over seasons\n",
    "for season_id in season_list:\n",
    "    # nba stats url to scrape\n",
    "    player_info_url = 'https://stats.nba.com/stats/leaguedashplayerstats?College=&Conference=&Country=&DateFrom=&DateTo=&Division=&DraftPick=&DraftYear=&GameScope=&GameSegment=&Height=&LastNGames=0&LeagueID=00&Location=&MeasureType=Base&Month=0&OpponentTeamID=0&Outcome=&PORound=0&PaceAdjust=N&PerMode=' + per_mode +'&Period=0&PlayerExperience=&PlayerPosition=&PlusMinus=N&Rank=N&Season=' + season_id + '&SeasonSegment=&SeasonType=Regular+Season&ShotClockRange=&StarterBench=&TeamID=0&TwoWay=0&VsConference=&VsDivision=&Weight='.format(per_mode,season_id)\n",
    "    # json response\n",
    "    response = requests.get(url=player_info_url, headers=headers).json()\n",
    "    # pulling just the data we want\n",
    "    player_info = response['resultSets'][0]['rowSet']\n",
    "    df = pd.DataFrame(player_info,columns=column_list)\n",
    "    df[\"season_id\"]= season_id"
   ]
  },
  {
   "cell_type": "code",
   "execution_count": null,
   "id": "1bc27236",
   "metadata": {},
   "outputs": [],
   "source": [
    "print(season_id)\n",
    "dfs.append(df)"
   ]
  },
  {
   "cell_type": "code",
   "execution_count": null,
   "id": "c634f1f8",
   "metadata": {},
   "outputs": [],
   "source": [
    "final_df = pd.concat(dfs,sort=False)"
   ]
  },
  {
   "cell_type": "code",
   "execution_count": null,
   "id": "79abce7a",
   "metadata": {},
   "outputs": [],
   "source": [
    "final_df.count()"
   ]
  },
  {
   "cell_type": "code",
   "execution_count": null,
   "id": "f95e481a",
   "metadata": {},
   "outputs": [],
   "source": [
    "season_df = df.loc[df['season_id']=='2013-14']"
   ]
  },
  {
   "cell_type": "code",
   "execution_count": null,
   "id": "8a9e853a",
   "metadata": {},
   "outputs": [],
   "source": [
    "player"
   ]
  },
  {
   "cell_type": "code",
   "execution_count": null,
   "id": "d5d96e5e",
   "metadata": {},
   "outputs": [],
   "source": []
  }
 ],
 "metadata": {
  "kernelspec": {
   "display_name": "Python [conda env:pyvizenv] *",
   "language": "python",
   "name": "conda-env-pyvizenv-py"
  },
  "language_info": {
   "codemirror_mode": {
    "name": "ipython",
    "version": 3
   },
   "file_extension": ".py",
   "mimetype": "text/x-python",
   "name": "python",
   "nbconvert_exporter": "python",
   "pygments_lexer": "ipython3",
   "version": "3.7.10"
  }
 },
 "nbformat": 4,
 "nbformat_minor": 5
}
