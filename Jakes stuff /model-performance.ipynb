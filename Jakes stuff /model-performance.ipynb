{
 "cells": [
  {
   "cell_type": "code",
   "execution_count": 1,
   "metadata": {
    "tags": []
   },
   "outputs": [],
   "source": [
    "import sqlite3\n",
    "import numpy as np\n",
    "import matplotlib.pyplot as plt\n",
    "import seaborn as sns\n",
    "from sklearn.metrics import confusion_matrix, classification_report, accuracy_score\n",
    "from sklearn.linear_model import LogisticRegression\n",
    "from sklearn.ensemble import RandomForestClassifier\n",
    "from sklearn.neural_network import MLPClassifier\n",
    "from sklearn.svm import LinearSVC"
   ]
  },
  {
   "cell_type": "code",
   "execution_count": 2,
   "metadata": {
    "tags": []
   },
   "outputs": [
    {
     "ename": "ModuleNotFoundError",
     "evalue": "No module named 'databall'",
     "output_type": "error",
     "traceback": [
      "\u001b[0;31m---------------------------------------------------------------------------\u001b[0m",
      "\u001b[0;31mModuleNotFoundError\u001b[0m                       Traceback (most recent call last)",
      "\u001b[0;32m/var/folders/pb/9nrds4y576x41j1jw01gnkc40000gn/T/ipykernel_14834/3334627150.py\u001b[0m in \u001b[0;36m<module>\u001b[0;34m\u001b[0m\n\u001b[1;32m      7\u001b[0m     \u001b[0msys\u001b[0m\u001b[0;34m.\u001b[0m\u001b[0mpath\u001b[0m\u001b[0;34m.\u001b[0m\u001b[0mappend\u001b[0m\u001b[0;34m(\u001b[0m\u001b[0mmodule_path\u001b[0m\u001b[0;34m)\u001b[0m\u001b[0;34m\u001b[0m\u001b[0;34m\u001b[0m\u001b[0m\n\u001b[1;32m      8\u001b[0m \u001b[0;34m\u001b[0m\u001b[0m\n\u001b[0;32m----> 9\u001b[0;31m \u001b[0;32mfrom\u001b[0m \u001b[0mdataball\u001b[0m\u001b[0;34m.\u001b[0m\u001b[0mdatabase\u001b[0m \u001b[0;32mimport\u001b[0m \u001b[0mDatabase\u001b[0m\u001b[0;34m\u001b[0m\u001b[0;34m\u001b[0m\u001b[0m\n\u001b[0m\u001b[1;32m     10\u001b[0m \u001b[0;32mfrom\u001b[0m \u001b[0mdataball\u001b[0m\u001b[0;34m.\u001b[0m\u001b[0mplotting\u001b[0m \u001b[0;32mimport\u001b[0m \u001b[0mformat_538\u001b[0m\u001b[0;34m,\u001b[0m \u001b[0mplot_confusion_matrix\u001b[0m\u001b[0;34m\u001b[0m\u001b[0;34m\u001b[0m\u001b[0m\n\u001b[1;32m     11\u001b[0m \u001b[0;32mfrom\u001b[0m \u001b[0mdataball\u001b[0m\u001b[0;34m.\u001b[0m\u001b[0mprofit\u001b[0m \u001b[0;32mimport\u001b[0m \u001b[0mprofit\u001b[0m\u001b[0;34m\u001b[0m\u001b[0;34m\u001b[0m\u001b[0m\n",
      "\u001b[0;31mModuleNotFoundError\u001b[0m: No module named 'databall'"
     ]
    }
   ],
   "source": [
    "import os\n",
    "import sys\n",
    "\n",
    "module_path = os.path.abspath(os.path.join('..'))\n",
    "\n",
    "if module_path not in sys.path:\n",
    "    sys.path.append(module_path)\n",
    "\n",
    "from databall.database import Database\n",
    "from databall.plotting import format_538, plot_confusion_matrix\n",
    "from databall.profit import profit\n",
    "from databall.simulate import simulate"
   ]
  },
  {
   "cell_type": "code",
   "execution_count": null,
   "metadata": {
    "tags": []
   },
   "outputs": [],
   "source": [
    "plt.style.use('fivethirtyeight')"
   ]
  },
  {
   "cell_type": "code",
   "execution_count": null,
   "metadata": {
    "tags": []
   },
   "outputs": [],
   "source": [
    "database = Database('../data/nba.db')\n",
    "games = database.betting_stats(window=10)\n",
    "games = games.loc[games.SEASON>=2006, stats + ['SEASON', 'GAME_DATE', var_predict]].dropna()"
   ]
  },
  {
   "cell_type": "code",
   "execution_count": null,
   "metadata": {},
   "outputs": [],
   "source": [
    "model = LogisticRegression(C=0.0001943920615336294, penalty='l2',\n",
    "                           fit_intercept=True, intercept_scaling=134496.71823111628)\n",
    "output_log = simulate(model, games, 2016, stats, var_predict)\n",
    "days_log, per_log, profit_log = profit(output_log, var_predict=var_predict, bet_amount=100)\n",
    "cm = confusion_matrix(output_log.HOME_SPREAD_WL, output_log.HOME_SPREAD_WL_PRED)\n",
    "\n",
    "fig = plt.figure(figsize=(8, 8))\n",
    "plot_confusion_matrix(cm, ['Loss', 'Win'], fig=fig)\n",
    "\n",
    "title = 'Logistic regression struggles with losses'\n",
    "subtitle = '''Logistic regression confusion matrix for predicting home\n",
    "team results against the spread for the 2020 seson'''\n",
    "format_538(fig, 'NBA Stats & Covers.com', title=title, subtitle=subtitle, ax=fig.axes,\n",
    "           xoff=(-0.18, 1.02), yoff=(-0.17, -0.22), toff=(-.15, 1.32), soff=(-0.15, 1.2),\n",
    "           n=50, bottomtick=np.nan)\n",
    "plt.show()\n",
    "\n",
    "print('_' * 52)\n",
    "print(classification_report(output_log.HOME_SPREAD_WL, output_log.HOME_SPREAD_WL_PRED,\n",
    "                            target_names=['Loss', 'Win'], digits=3))\n",
    "print('Correctly predicted {:.2f}% of games'\n",
    "      .format(accuracy_score(output_log.HOME_SPREAD_WL, output_log.HOME_SPREAD_WL_PRED) * 100))"
   ]
  },
  {
   "cell_type": "code",
   "execution_count": null,
   "metadata": {},
   "outputs": [],
   "source": [
    "model = LinearSVC(C=3.2563857398383885e-06, loss='squared_hinge',\n",
    "                           fit_intercept=True, intercept_scaling=242.79319791592195)\n",
    "output_svm = simulate(model, games, 2016, stats, var_predict)\n",
    "days_svm, per_svm, profit_svm = profit(output_svm, var_predict=var_predict, bet_amount=100)\n",
    "cm = confusion_matrix(output_svm.HOME_SPREAD_WL, output_svm.HOME_SPREAD_WL_PRED)\n",
    "\n",
    "fig = plt.figure(figsize=(8, 8))\n",
    "plot_confusion_matrix(cm, ['Loss', 'Win'], fig=fig)\n",
    "\n",
    "title = 'SVM struggles with predicting wins'\n",
    "subtitle = '''Support vector machine confusion matrix for predicting\n",
    "home team results against the spread for the 2020 seson'''\n",
    "format_538(fig, 'NBA Stats & Covers.com', title=title, subtitle=subtitle, ax=fig.axes,\n",
    "           xoff=(-0.18, 1.02), yoff=(-0.17, -0.22), toff=(-.15, 1.32), soff=(-0.15, 1.2),\n",
    "           n=50, bottomtick=np.nan)\n",
    "plt.show()\n",
    "\n",
    "print('_' * 52)\n",
    "print(classification_report(output_svm.HOME_SPREAD_WL, output_svm.HOME_SPREAD_WL_PRED,\n",
    "                            target_names=['Loss', 'Win'], digits=3))\n",
    "print('Correctly predicted {:.2f}% of games'\n",
    "      .format(accuracy_score(output_svm.HOME_SPREAD_WL, output_svm.HOME_SPREAD_WL_PRED) * 100))"
   ]
  },
  {
   "cell_type": "code",
   "execution_count": 3,
   "metadata": {},
   "outputs": [
    {
     "ename": "NameError",
     "evalue": "name 'simulate' is not defined",
     "output_type": "error",
     "traceback": [
      "\u001b[0;31m---------------------------------------------------------------------------\u001b[0m",
      "\u001b[0;31mNameError\u001b[0m                                 Traceback (most recent call last)",
      "\u001b[0;32m/var/folders/pb/9nrds4y576x41j1jw01gnkc40000gn/T/ipykernel_14834/4035638848.py\u001b[0m in \u001b[0;36m<module>\u001b[0;34m\u001b[0m\n\u001b[1;32m      1\u001b[0m model = RandomForestClassifier(n_estimators=34, criterion='entropy', class_weight='balanced',\n\u001b[1;32m      2\u001b[0m                                bootstrap=True, random_state=8)\n\u001b[0;32m----> 3\u001b[0;31m \u001b[0moutput_rf\u001b[0m \u001b[0;34m=\u001b[0m \u001b[0msimulate\u001b[0m\u001b[0;34m(\u001b[0m\u001b[0mmodel\u001b[0m\u001b[0;34m,\u001b[0m \u001b[0mgames\u001b[0m\u001b[0;34m,\u001b[0m \u001b[0;36m2016\u001b[0m\u001b[0;34m,\u001b[0m \u001b[0mstats\u001b[0m\u001b[0;34m,\u001b[0m \u001b[0mvar_predict\u001b[0m\u001b[0;34m)\u001b[0m\u001b[0;34m\u001b[0m\u001b[0;34m\u001b[0m\u001b[0m\n\u001b[0m\u001b[1;32m      4\u001b[0m \u001b[0mdays_rf\u001b[0m\u001b[0;34m,\u001b[0m \u001b[0mper_rf\u001b[0m\u001b[0;34m,\u001b[0m \u001b[0mprofit_rf\u001b[0m \u001b[0;34m=\u001b[0m \u001b[0mprofit\u001b[0m\u001b[0;34m(\u001b[0m\u001b[0moutput_rf\u001b[0m\u001b[0;34m,\u001b[0m \u001b[0mvar_predict\u001b[0m\u001b[0;34m=\u001b[0m\u001b[0mvar_predict\u001b[0m\u001b[0;34m,\u001b[0m \u001b[0mbet_amount\u001b[0m\u001b[0;34m=\u001b[0m\u001b[0;36m100\u001b[0m\u001b[0;34m)\u001b[0m\u001b[0;34m\u001b[0m\u001b[0;34m\u001b[0m\u001b[0m\n\u001b[1;32m      5\u001b[0m \u001b[0mcm\u001b[0m \u001b[0;34m=\u001b[0m \u001b[0mconfusion_matrix\u001b[0m\u001b[0;34m(\u001b[0m\u001b[0moutput_rf\u001b[0m\u001b[0;34m.\u001b[0m\u001b[0mHOME_SPREAD_WL\u001b[0m\u001b[0;34m,\u001b[0m \u001b[0moutput_rf\u001b[0m\u001b[0;34m.\u001b[0m\u001b[0mHOME_SPREAD_WL_PRED\u001b[0m\u001b[0;34m)\u001b[0m\u001b[0;34m\u001b[0m\u001b[0;34m\u001b[0m\u001b[0m\n",
      "\u001b[0;31mNameError\u001b[0m: name 'simulate' is not defined"
     ]
    }
   ],
   "source": [
    "model = RandomForestClassifier(n_estimators=34, criterion='entropy', class_weight='balanced',\n",
    "                               bootstrap=True, random_state=8)\n",
    "output_rf = simulate(model, games, 2016, stats, var_predict)\n",
    "days_rf, per_rf, profit_rf = profit(output_rf, var_predict=var_predict, bet_amount=100)\n",
    "cm = confusion_matrix(output_rf.HOME_SPREAD_WL, output_rf.HOME_SPREAD_WL_PRED)\n",
    "\n",
    "fig = plt.figure(figsize=(8, 8))\n",
    "plot_confusion_matrix(cm, ['Loss', 'Win'], fig=fig)\n",
    "\n",
    "title = 'Random forest guesses on wins'\n",
    "subtitle = '''Random forest confusion matrix for predicting home\n",
    "team results against the spread for the 2020 seson'''\n",
    "format_538(fig, 'NBA Stats & Covers.com', title=title, subtitle=subtitle, ax=fig.axes,\n",
    "           xoff=(-0.18, 1.02), yoff=(-0.17, -0.22), toff=(-.15, 1.32), soff=(-0.15, 1.2),\n",
    "           n=50, bottomtick=np.nan)\n",
    "plt.show()\n",
    "\n",
    "print('_' * 52)\n",
    "print(classification_report(output_rf.HOME_SPREAD_WL, output_rf.HOME_SPREAD_WL_PRED,\n",
    "                            target_names=['Loss', 'Win'], digits=3))\n",
    "print('Correctly predicted {:.2f}% of games'\n",
    "      .format(accuracy_score(output_rf.HOME_SPREAD_WL, output_rf.HOME_SPREAD_WL_PRED) * 100))"
   ]
  },
  {
   "cell_type": "code",
   "execution_count": null,
   "metadata": {},
   "outputs": [],
   "source": [
    "model = MLPClassifier(alpha=5.700733605522687e-06, hidden_layer_sizes=49,\n",
    "                      solver='lbfgs', activation='relu', max_iter=500, random_state=8)\n",
    "output_mlp = simulate(model, games, 2020, stats, var_predict)\n",
    "days_mlp, per_mlp, profit_mlp = profit(output_mlp, var_predict=var_predict, bet_amount=100)\n",
    "cm = confusion_matrix(output_mlp.HOME_SPREAD_WL, output_mlp.HOME_SPREAD_WL_PRED)\n",
    "\n",
    "fig = plt.figure(figsize=(8, 8))\n",
    "plot_confusion_matrix(cm, ['Loss', 'Win'], fig=fig)\n",
    "\n",
    "title = 'MLP performs the best by a slim margin'\n",
    "subtitle = '''Neural network confusion matrix for predicting home\n",
    "team results against the spread for the 2016 seson'''\n",
    "format_538(fig, 'NBA Stats & Covers.com', title=title, subtitle=subtitle, ax=fig.axes,\n",
    "           xoff=(-0.18, 1.02), yoff=(-0.17, -0.22), toff=(-.15, 1.32), soff=(-0.15, 1.2),\n",
    "           n=50, bottomtick=np.nan)\n",
    "plt.show()\n",
    "\n",
    "print('_' * 52)\n",
    "print(classification_report(output_mlp.HOME_SPREAD_WL, output_mlp.HOME_SPREAD_WL_PRED,\n",
    "                            target_names=['Loss', 'Win'], digits=3))\n",
    "print('Correctly predicted {:.2f}% of games'\n",
    "      .format(accuracy_score(output_mlp.HOME_SPREAD_WL, output_mlp.HOME_SPREAD_WL_PRED) * 100))"
   ]
  },
  {
   "cell_type": "code",
   "execution_count": null,
   "metadata": {},
   "outputs": [],
   "source": [
    "fig = plt.figure(figsize=(12, 10))\n",
    "ax1 = plt.subplot(211)\n",
    "ax1.plot_date(days_log, per_log*100, label='Logistic Regression')\n",
    "ax1.plot_date(days_svm, per_svm*100, label='Support Vector Machine')\n",
    "ax1.plot_date(days_rf, per_rf*100, label='Random Forest')\n",
    "ax1.plot_date(days_mlp, per_mlp*100, label='Neural Network', color='green')\n",
    "ax1.set_ylabel('Cumulative Accuracy')\n",
    "ax1.set_ylim(-5)\n",
    "ax1.legend(fontsize=16, bbox_to_anchor=(1.01, 1), borderaxespad=0)\n",
    "\n",
    "ax2 = plt.subplot(212)\n",
    "ax2.plot_date(days_log, profit_log/1000)\n",
    "ax2.plot_date(days_svm, profit_svm/1000)\n",
    "ax2.plot_date(days_rf, profit_rf/1000)\n",
    "ax2.plot_date(days_mlp, profit_mlp/1000, color='green')\n",
    "ax2.set_xlabel('Date')\n",
    "ax2.set_ylabel('Cumulative Profit')\n",
    "ax2.set_ylim(-3, 13)\n",
    "\n",
    "title = 'Not all of the models generalize well'\n",
    "subtitle = '''Cumulative prediction accuracy and subsequent profit from placing $100 bets\n",
    "on every game throughout the 2020 season using different betting strategies'''\n",
    "format_538(fig, 'NBA Stats & Covers.com', ax=(ax1, ax2), title=title, subtitle=subtitle,\n",
    "           xoff=(-0.1, 1.01), yoff=(-1.38, -1.45), toff=(-.09, 1.28), soff=(-0.09, 1.08), \n",
    "           prefix = (' ', '$'), suffix=('%', 'k'), suffix_offset=(3, 1), n=80)\n",
    "plt.show()"
   ]
  },
  {
   "cell_type": "code",
   "execution_count": null,
   "metadata": {},
   "outputs": [],
   "source": [
    "model = LogisticRegression()\n",
    "output_log_df = simulate(model, games, 2016, stats, var_predict)\n",
    "days_log_df, per_log_df, profit_log_df = profit(output_log_df, var_predict=var_predict, bet_amount=100)\n",
    "\n",
    "model = LinearSVC()\n",
    "output_svm_df = simulate(model, games, 2016, stats, var_predict)\n",
    "days_svm_df, per_svm_df, profit_svm_df = profit(output_svm_df, var_predict=var_predict, bet_amount=100)\n",
    "\n",
    "model = RandomForestClassifier(random_state=8)\n",
    "output_rf_df = simulate(model, games, 2016, stats, var_predict)\n",
    "days_rf_df, per_rf_df, profit_rf_df = profit(output_rf_df, var_predict=var_predict, bet_amount=100)\n",
    "\n",
    "model = MLPClassifier(random_state=8)\n",
    "output_mlp_df = simulate(model, games, 2016, stats, var_predict)\n",
    "days_mlp_df, per_mlp_df, profit_mlp_df = profit(output_mlp_df, var_predict=var_predict, bet_amount=100)\n",
    "\n",
    "fig = plt.figure(figsize=(12, 10))\n",
    "ax1 = plt.subplot(211)\n",
    "ax1.plot_date(days_log_df, per_log_df*100, label='Logistic Regression')\n",
    "ax1.plot_date(days_svm_df, per_svm_df*100, label='Support Vector Machine')\n",
    "ax1.plot_date(days_rf_df, per_rf_df*100, label='Random Forest')\n",
    "ax1.plot_date(days_mlp_df, per_mlp_df*100, label='Neural Network', color='green')\n",
    "ax1.set_ylabel('Cumulative Accuracy')\n",
    "ax1.set_ylim(-5)\n",
    "ax1.legend(fontsize=16, bbox_to_anchor=(1.01, 1), borderaxespad=0)\n",
    "\n",
    "ax2 = plt.subplot(212)\n",
    "ax2.plot_date(days_log_df, profit_log_df/1000)\n",
    "ax2.plot_date(days_svm_df, profit_svm_df/1000)\n",
    "ax2.plot_date(days_rf_df, profit_rf_df/1000)\n",
    "ax2.plot_date(days_mlp_df, profit_mlp_df/1000, color='green')\n",
    "ax2.set_xlabel('Date')\n",
    "ax2.set_ylabel('Cumulative Profit')\n",
    "\n",
    "title = 'Optimizing parameters hurt logistic regression accuracy'\n",
    "subtitle = '''Cumulative prediction accuracy and subsequent profit from placing $100 bets\n",
    "on every game throughout the 2016 season using different betting strategies'''\n",
    "format_538(fig, 'NBA Stats & Covers.com', ax=(ax1, ax2), title=title, subtitle=subtitle,\n",
    "           xoff=(-0.12, 1.01), yoff=(-1.38, -1.45), toff=(-.09, 1.28), soff=(-0.09, 1.08), \n",
    "           prefix = (' ', '$'), suffix=('%', 'k'), suffix_offset=(3, 1), n=80)\n",
    "plt.show()"
   ]
  },
  {
   "cell_type": "code",
   "execution_count": null,
   "metadata": {},
   "outputs": [],
   "source": [
    "model = LogisticRegression(C=0.0001943920615336294, penalty='l2',\n",
    "                           fit_intercept=True, intercept_scaling=134496.71823111628)\n",
    "output_log_evo = simulate(model, games, 2016, stats, var_predict, evolve=True)\n",
    "days_log_evo, per_log_evo, profit_log_evo = profit(output_log_evo, var_predict=var_predict, bet_amount=100)\n",
    "\n",
    "model = LogisticRegression()\n",
    "output_log_df_evo = simulate(model, games, 2016, stats, var_predict, evolve=True)\n",
    "days_log_df_evo, per_log_df_evo, profit_log_df_evo = profit(output_log_df_evo, var_predict=var_predict,\n",
    "                                                            bet_amount=100)\n",
    "\n",
    "fig = plt.figure(figsize=(12, 10))\n",
    "ax1 = plt.subplot(211)\n",
    "ax1.plot_date(days_log, per_log*100, label='Optimized Parameters')\n",
    "ax1.plot_date(days_log_evo, per_log_evo*100, label='Optimized Parameters\\nw/ Evolution')\n",
    "ax1.plot_date(days_log_df, per_log_df*100, label='Default Model')\n",
    "ax1.plot_date(days_log_df_evo, per_log_df_evo*100, label='Default Model\\nw/ Evolution', color='green')\n",
    "ax1.set_ylabel('Cumulative Accuracy')\n",
    "ax1.set_ylim(-5)\n",
    "ax1.legend(fontsize=16, bbox_to_anchor=(1.01, 1), borderaxespad=0)\n",
    "\n",
    "ax2 = plt.subplot(212)\n",
    "ax2.plot_date(days_log, profit_log/1000)\n",
    "ax2.plot_date(days_log_evo, profit_log_evo/1000)\n",
    "ax2.plot_date(days_log_df, profit_log_df/1000)\n",
    "ax2.plot_date(days_log_df_evo, profit_log_df_evo/1000, color='green')\n",
    "ax2.set_xlabel('Date')\n",
    "ax2.set_ylabel('Cumulative Profit')\n",
    "\n",
    "title = 'Retraining models in-season can be detrimental'\n",
    "subtitle = '''Cumulative prediction accuracy and subsequent profit from placing $100 bets\n",
    "on every game throughout the 2020 season using different betting strategies'''\n",
    "format_538(fig, 'NBA Stats & Covers.com', ax=(ax1, ax2), title=title, subtitle=subtitle,\n",
    "           xoff=(-0.12, 1.01), yoff=(-1.38, -1.45), toff=(-.09, 1.28), soff=(-0.09, 1.08), \n",
    "           prefix = (' ', '$'), suffix=('%', 'k'), suffix_offset=(3, 1), n=80)\n",
    "plt.show()"
   ]
  },
  {
   "cell_type": "code",
   "execution_count": null,
   "metadata": {},
   "outputs": [],
   "source": []
  }
 ],
 "metadata": {
  "jekyll": {
   "layout": "page",
   "permalink": "/results/performance/",
   "title": "Model Performance"
  },
  "kernelspec": {
   "display_name": "Python 3 (ipykernel)",
   "language": "python",
   "name": "python3"
  },
  "language_info": {
   "codemirror_mode": {
    "name": "ipython",
    "version": 3
   },
   "file_extension": ".py",
   "mimetype": "text/x-python",
   "name": "python",
   "nbconvert_exporter": "python",
   "pygments_lexer": "ipython3",
   "version": "3.8.2"
  }
 },
 "nbformat": 4,
 "nbformat_minor": 4
}
