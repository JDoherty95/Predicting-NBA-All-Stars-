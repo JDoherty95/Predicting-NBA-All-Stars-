{
 "cells": [
  {
   "cell_type": "code",
   "execution_count": 1,
   "id": "9c8eb72a-6819-47e6-bd32-29cc7f4a256a",
   "metadata": {},
   "outputs": [
    {
     "ename": "ModuleNotFoundError",
     "evalue": "No module named 'nbapredict'",
     "output_type": "error",
     "traceback": [
      "\u001b[0;31m---------------------------------------------------------------------------\u001b[0m",
      "\u001b[0;31mModuleNotFoundError\u001b[0m                       Traceback (most recent call last)",
      "\u001b[0;32m/var/folders/pb/9nrds4y576x41j1jw01gnkc40000gn/T/ipykernel_8797/1137502760.py\u001b[0m in \u001b[0;36m<module>\u001b[0;34m\u001b[0m\n\u001b[1;32m      1\u001b[0m \u001b[0;32mimport\u001b[0m \u001b[0mrequests\u001b[0m\u001b[0;34m\u001b[0m\u001b[0;34m\u001b[0m\u001b[0m\n\u001b[1;32m      2\u001b[0m \u001b[0;34m\u001b[0m\u001b[0m\n\u001b[0;32m----> 3\u001b[0;31m \u001b[0;32mfrom\u001b[0m \u001b[0mnbapredict\u001b[0m\u001b[0;34m.\u001b[0m\u001b[0mbr_web_scraper\u001b[0m\u001b[0;34m.\u001b[0m\u001b[0merrors\u001b[0m \u001b[0;32mimport\u001b[0m \u001b[0mInvalidDate\u001b[0m\u001b[0;34m\u001b[0m\u001b[0;34m\u001b[0m\u001b[0m\n\u001b[0m\u001b[1;32m      4\u001b[0m \u001b[0;32mfrom\u001b[0m \u001b[0mnbapredict\u001b[0m\u001b[0;34m.\u001b[0m\u001b[0mbr_web_scraper\u001b[0m\u001b[0;34m.\u001b[0m\u001b[0mparsers\u001b[0m\u001b[0;34m.\u001b[0m\u001b[0mbox_scores\u001b[0m \u001b[0;32mimport\u001b[0m \u001b[0mparse_player_box_scores\u001b[0m\u001b[0;34m\u001b[0m\u001b[0;34m\u001b[0m\u001b[0m\n\u001b[1;32m      5\u001b[0m \u001b[0;32mfrom\u001b[0m \u001b[0mnbapredict\u001b[0m\u001b[0;34m.\u001b[0m\u001b[0mbr_web_scraper\u001b[0m\u001b[0;34m.\u001b[0m\u001b[0mparsers\u001b[0m\u001b[0;34m.\u001b[0m\u001b[0mschedule\u001b[0m \u001b[0;32mimport\u001b[0m \u001b[0mparse_schedule\u001b[0m\u001b[0;34m,\u001b[0m \u001b[0mparse_schedule_for_month_url_paths\u001b[0m\u001b[0;34m\u001b[0m\u001b[0;34m\u001b[0m\u001b[0m\n",
      "\u001b[0;31mModuleNotFoundError\u001b[0m: No module named 'nbapredict'"
     ]
    }
   ],
   "source": [
    "import requests\n",
    "\n",
    "from nbapredict.br_web_scraper.errors import InvalidDate\n",
    "from nbapredict.br_web_scraper.parsers.box_scores import parse_player_box_scores\n",
    "from nbapredict.br_web_scraper.parsers.schedule import parse_schedule, parse_schedule_for_month_url_paths\n",
    "from nbapredict.br_web_scraper.parsers.players_season_totals import parse_players_season_totals\n",
    "\n",
    "BASE_URL = 'https://www.basketball-reference.com'\n",
    "\n",
    "\n",
    "def player_box_scores(day, month, year):\n",
    "    url = '{BASE_URL}/friv/dailyleaders.cgi?month={month}&day={day}&year={year}'.format(\n",
    "        BASE_URL=BASE_URL,\n",
    "        day=day,\n",
    "        month=month,\n",
    "        year=year\n",
    "    )\n",
    "\n",
    "    response = requests.get(url=url, allow_redirects=False)\n",
    "\n",
    "    if 200 <= response.status_code < 300:\n",
    "        return parse_player_box_scores(response.content)\n",
    "\n",
    "    raise InvalidDate(day=day, month=month, year=year)\n",
    "\n",
    "\n",
    "def schedule_for_month(url):\n",
    "    response = requests.get(url=url)\n",
    "\n",
    "    response.raise_for_status()\n",
    "\n",
    "    return parse_schedule(response.content)\n",
    "\n",
    "\n",
    "def season_schedule(season_end_year):\n",
    "    url = '{BASE_URL}/leagues/NBA_{season_end_year}_games.html'.format(\n",
    "        BASE_URL=BASE_URL,\n",
    "        season_end_year=season_end_year\n",
    "    )\n",
    "\n",
    "    response = requests.get(url=url)\n",
    "\n",
    "    response.raise_for_status()\n",
    "\n",
    "    season_schedule_values = parse_schedule(response.content)\n",
    "    other_month_url_paths = parse_schedule_for_month_url_paths(response.content)\n",
    "\n",
    "    for month_url_path in other_month_url_paths:\n",
    "        url = '{BASE_URL}{month_url_path}'.format(BASE_URL=BASE_URL, month_url_path=month_url_path)\n",
    "        monthly_schedule = schedule_for_month(url=url)\n",
    "        season_schedule_values.extend(monthly_schedule)\n",
    "\n",
    "    return season_schedule_values\n",
    "\n",
    "\n",
    "def players_season_totals(season_end_year):\n",
    "    url = '{BASE_URL}/leagues/NBA_{season_end_year}_totals.html'.format(\n",
    "        BASE_URL=BASE_URL,\n",
    "        season_end_year=season_end_year,\n",
    "    )\n",
    "\n",
    "    response = requests.get(url=url)\n",
    "\n",
    "    response.raise_for_status()\n",
    "\n",
    "    return parse_players_season_totals(response.content)"
   ]
  },
  {
   "cell_type": "code",
   "execution_count": null,
   "id": "39623ff3-b338-4178-81e9-94aeebb0337d",
   "metadata": {},
   "outputs": [],
   "source": []
  }
 ],
 "metadata": {
  "kernelspec": {
   "display_name": "Python 3 (ipykernel)",
   "language": "python",
   "name": "python3"
  },
  "language_info": {
   "codemirror_mode": {
    "name": "ipython",
    "version": 3
   },
   "file_extension": ".py",
   "mimetype": "text/x-python",
   "name": "python",
   "nbconvert_exporter": "python",
   "pygments_lexer": "ipython3",
   "version": "3.8.2"
  }
 },
 "nbformat": 4,
 "nbformat_minor": 5
}
