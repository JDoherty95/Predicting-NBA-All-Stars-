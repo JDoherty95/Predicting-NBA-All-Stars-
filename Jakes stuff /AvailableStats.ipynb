{
 "cells": [
  {
   "cell_type": "code",
   "execution_count": 2,
   "id": "6ba7207c-f1e7-442b-9894-01804d11b3ad",
   "metadata": {},
   "outputs": [],
   "source": [
    "# Dictionary holding stats that are analyzed for each game and their type\n",
    "# Update if new stats are added\n",
    "\n",
    "availableStats = {'W_PCT':'Base',\n",
    "                  'REB':'Base',\n",
    "                  'TOV':'Base',\n",
    "                  'PLUS_MINUS':'Base',\n",
    "                  'OFF_RATING':'Advanced',\n",
    "                  'DEF_RATING':'Advanced',\n",
    "                  'TS_PCT':'Advanced'}"
   ]
  },
  {
   "cell_type": "code",
   "execution_count": null,
   "id": "cf82a343-6960-45be-bf98-39900ad7e044",
   "metadata": {},
   "outputs": [],
   "source": []
  }
 ],
 "metadata": {
  "kernelspec": {
   "display_name": "Python 3 (ipykernel)",
   "language": "python",
   "name": "python3"
  },
  "language_info": {
   "codemirror_mode": {
    "name": "ipython",
    "version": 3
   },
   "file_extension": ".py",
   "mimetype": "text/x-python",
   "name": "python",
   "nbconvert_exporter": "python",
   "pygments_lexer": "ipython3",
   "version": "3.8.2"
  }
 },
 "nbformat": 4,
 "nbformat_minor": 5
}
