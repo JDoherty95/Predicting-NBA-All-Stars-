{
 "cells": [
  {
   "cell_type": "code",
   "execution_count": 1,
   "id": "dcd7dd94-6054-406c-bfd3-57414c5d3db6",
   "metadata": {},
   "outputs": [],
   "source": [
    "def what_is_this(thing):\n",
    "    print(f'length : {len(thing)}')\n",
    "    print(type(thing))\n",
    "    if type(thing) == list:\n",
    "        print(thing[:5])\n",
    "    elif type(thing) == dict:\n",
    "        print(f'Keys: {list(thing.keys())[:5]}')\n",
    "        print(f'Values: {list(thing.values())[:5]}')\n",
    "    elif str(type(thing)) == \"<class 'pandas.core.frame.DataFrame'>\":\n",
    "        print(thing.dtypes)\n",
    "        print(thing.describe())\n",
    "    else:\n",
    "        return\n",
    "\n",
    "\n",
    "\n",
    "\n",
    "def verify_entries(df_1, df_2, original_df):\n",
    "    entries = len(original_df)\n",
    "    entry_1 = len(df_1)\n",
    "    entry_2 = len(df_2)\n",
    "    if entries == entry_1 + entry_2:\n",
    "        print(f'{entries} = {entry_1} + {entry_2}')\n",
    "        print( \"No Data Loss\")\n",
    "    else:\n",
    "        print(\"Keep Scrubbing\")\n",
    "\n",
    "def checking_for_null(df):\n",
    "    \n",
    "    df.dropna(axis=1, how = 'all')\n",
    "    len(checking_for_null)\n",
    "    "
   ]
  },
  {
   "cell_type": "code",
   "execution_count": null,
   "id": "df7afc2e-d226-4f81-a1de-2e4399bcc771",
   "metadata": {},
   "outputs": [],
   "source": []
  }
 ],
 "metadata": {
  "kernelspec": {
   "display_name": "Python 3 (ipykernel)",
   "language": "python",
   "name": "python3"
  },
  "language_info": {
   "codemirror_mode": {
    "name": "ipython",
    "version": 3
   },
   "file_extension": ".py",
   "mimetype": "text/x-python",
   "name": "python",
   "nbconvert_exporter": "python",
   "pygments_lexer": "ipython3",
   "version": "3.8.2"
  }
 },
 "nbformat": 4,
 "nbformat_minor": 5
}
