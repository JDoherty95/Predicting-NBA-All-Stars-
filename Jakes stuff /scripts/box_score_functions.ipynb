{
 "cells": [
  {
   "cell_type": "code",
   "execution_count": 1,
   "id": "eb224909-b5f6-47f6-9aed-147d743fea48",
   "metadata": {},
   "outputs": [],
   "source": [
    "def define_types(df):\n",
    "    df.team = df.team.astype('str')\n",
    "    df.location = df.location.astype('str')\n",
    "    df.opponent = df.opponent.astype('str')\n",
    "    df.outcome = df.outcome.astype('str')\n",
    "    return df\n",
    "\n",
    "def box_score_cleaner(df):\n",
    "    df['Team'] = df['team'].str[5:]\n",
    "    df['Location'] = df['location'].str[9:]\n",
    "    df['Opponent'] = df['opponent'].str[5:]\n",
    "    df['Outcome'] = df['outcome'].str[8:]\n",
    "    return df\n",
    "\n",
    "def box_score_organizer(df):\n",
    "    cols = ['slug', 'name', 'Team', 'Location', 'Opponent', 'Outcome',\n",
    "            'seconds_played', 'made_field_goals', 'attempted_field_goals',\n",
    "            'made_three_point_field_goals', 'attempted_three_point_field_goals',\n",
    "            'made_free_throws', 'attempted_free_throws', 'offensive_rebounds',\n",
    "            'defensive_rebounds', 'assists', 'steals', 'blocks', 'turnovers',\n",
    "            'personal_fouls', 'game_score', 'date']\n",
    "    new_df = df[cols].copy()\n",
    "    return new_df\n",
    "\n",
    "def get_cleaned_box_scores(df):\n",
    "    new_df = box_score_organizer(box_score_cleaner(define_types(df)))\n",
    "    return new_df"
   ]
  },
  {
   "cell_type": "code",
   "execution_count": null,
   "id": "e49a218d-efe6-4717-9649-4e2bd02a39b6",
   "metadata": {},
   "outputs": [],
   "source": []
  }
 ],
 "metadata": {
  "kernelspec": {
   "display_name": "Python 3 (ipykernel)",
   "language": "python",
   "name": "python3"
  },
  "language_info": {
   "codemirror_mode": {
    "name": "ipython",
    "version": 3
   },
   "file_extension": ".py",
   "mimetype": "text/x-python",
   "name": "python",
   "nbconvert_exporter": "python",
   "pygments_lexer": "ipython3",
   "version": "3.8.2"
  }
 },
 "nbformat": 4,
 "nbformat_minor": 5
}
